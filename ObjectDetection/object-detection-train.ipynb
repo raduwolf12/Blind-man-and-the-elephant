{
 "cells": [
  {
   "cell_type": "code",
   "execution_count": 10,
   "metadata": {
    "collapsed": true,
    "ExecuteTime": {
     "end_time": "2023-08-02T12:17:02.796876600Z",
     "start_time": "2023-08-02T12:17:02.785904300Z"
    }
   },
   "outputs": [],
   "source": [
    "import numpy as np\n",
    "import matplotlib.pyplot as plt\n",
    "import matplotlib.image as npimg\n",
    "import os\n",
    "import pandas as pd\n",
    "\n",
    "# ## Keras\n",
    "import keras\n",
    "import tensorflow as tf\n",
    "\n",
    "from keras.models import Sequential\n",
    "from keras.optimizers import Adam\n",
    "from keras.layers import Convolution2D, MaxPooling2D, Dropout, Flatten, Dense\n",
    "from keras.preprocessing.image import ImageDataGenerator\n"
   ]
  },
  {
   "cell_type": "code",
   "execution_count": 2,
   "outputs": [],
   "source": [
    "columns = ['Image Path', 'Label']\n",
    "num_bins = 25\n",
    "samples_per_bin = 200"
   ],
   "metadata": {
    "collapsed": false,
    "ExecuteTime": {
     "end_time": "2023-08-02T12:16:21.326338500Z",
     "start_time": "2023-08-02T12:16:21.309382700Z"
    }
   }
  },
  {
   "cell_type": "code",
   "execution_count": 3,
   "outputs": [],
   "source": [
    "def load_dataset(dirs):\n",
    "    data = []\n",
    "    for directory in dirs:\n",
    "        csv_path = os.path.join(directory, 'captured_data.csv')\n",
    "        df = pd.read_csv(csv_path)\n",
    "        data.append(df)\n",
    "    return pd.concat(data, ignore_index=True)"
   ],
   "metadata": {
    "collapsed": false,
    "ExecuteTime": {
     "end_time": "2023-08-02T12:16:21.326338500Z",
     "start_time": "2023-08-02T12:16:21.310380200Z"
    }
   }
  },
  {
   "cell_type": "code",
   "execution_count": 4,
   "outputs": [],
   "source": [
    "# Hyperparameters\n",
    "input_shape = (224, 224, 3)  # Modify the input shape based on your chosen pre-trained model\n",
    "num_classes = 1  # Number of object classes, change accordingly\n",
    "root_directory='D:\\Master\\ProjectOutsideOfCouseScope\\ObjectDetection\\ '"
   ],
   "metadata": {
    "collapsed": false,
    "ExecuteTime": {
     "end_time": "2023-08-02T12:16:21.326338500Z",
     "start_time": "2023-08-02T12:16:21.310380200Z"
    }
   }
  },
  {
   "cell_type": "code",
   "execution_count": 5,
   "outputs": [],
   "source": [
    "# Load the dataset\n",
    "dirs = [\n",
    "    'D:\\Master\\ProjectOutsideOfCouseScope\\ObjectDetection\\captures_20230730_233758',\n",
    "    'D:\\Master\\ProjectOutsideOfCouseScope\\ObjectDetection\\captures_20230731_225555',\n",
    "    'D:\\Master\\ProjectOutsideOfCouseScope\\ObjectDetection\\captures_20230731_225500',\n",
    "    'D:\\Master\\ProjectOutsideOfCouseScope\\ObjectDetection\\captures_20230731_223453',\n",
    "    'D:\\Master\\ProjectOutsideOfCouseScope\\ObjectDetection\\captures_20230731_223329',\n",
    "    'D:\\Master\\ProjectOutsideOfCouseScope\\ObjectDetection\\captures_20230731_223213',\n",
    "    'D:\\Master\\ProjectOutsideOfCouseScope\\ObjectDetection\\captures_20230731_223107',\n",
    "    'D:\\Master\\ProjectOutsideOfCouseScope\\ObjectDetection\\captures_20230731_222917',\n",
    "    'D:\\Master\\ProjectOutsideOfCouseScope\\ObjectDetection\\captures_20230731_222800',\n",
    "    'D:\\Master\\ProjectOutsideOfCouseScope\\ObjectDetection\\captures_20230731_222634',\n",
    "    'D:\\Master\\ProjectOutsideOfCouseScope\\ObjectDetection\\captures_20230731_194859',\n",
    "]"
   ],
   "metadata": {
    "collapsed": false,
    "ExecuteTime": {
     "end_time": "2023-08-02T12:16:21.331324300Z",
     "start_time": "2023-08-02T12:16:21.310380200Z"
    }
   }
  },
  {
   "cell_type": "code",
   "execution_count": 6,
   "outputs": [
    {
     "name": "stdout",
     "output_type": "stream",
     "text": [
      "                                      Image Path        Label\n",
      "0     captures_20230730_233758\\WateringCan_0.png  WateringCan\n",
      "1     captures_20230730_233758\\WateringCan_1.png  WateringCan\n",
      "2     captures_20230730_233758\\WateringCan_2.png  WateringCan\n",
      "3     captures_20230730_233758\\WateringCan_3.png  WateringCan\n",
      "4     captures_20230730_233758\\WateringCan_4.png  WateringCan\n",
      "...                                          ...          ...\n",
      "4302     captures_20230731_194859\\Bottle_417.png       Bottle\n",
      "4303     captures_20230731_194859\\Bottle_418.png       Bottle\n",
      "4304     captures_20230731_194859\\Bottle_419.png       Bottle\n",
      "4305     captures_20230731_194859\\Bottle_420.png       Bottle\n",
      "4306     captures_20230731_194859\\Bottle_421.png       Bottle\n",
      "\n",
      "[4307 rows x 2 columns]\n"
     ]
    }
   ],
   "source": [
    "dataset = load_dataset(dirs)\n",
    "\n",
    "print(dataset)\n",
    "\n"
   ],
   "metadata": {
    "collapsed": false,
    "ExecuteTime": {
     "end_time": "2023-08-02T12:16:21.866194Z",
     "start_time": "2023-08-02T12:16:21.325340200Z"
    }
   }
  },
  {
   "cell_type": "code",
   "execution_count": 7,
   "outputs": [],
   "source": [
    "# Split dataset into train and test sets (you can also use validation set)\n",
    "train_split = 0.8\n",
    "train_size = int(train_split * len(dataset))\n",
    "train_df = dataset[:train_size]\n",
    "test_df = dataset[train_size:]"
   ],
   "metadata": {
    "collapsed": false,
    "ExecuteTime": {
     "end_time": "2023-08-02T12:16:21.910075600Z",
     "start_time": "2023-08-02T12:16:21.865196900Z"
    }
   }
  },
  {
   "cell_type": "code",
   "execution_count": 8,
   "outputs": [
    {
     "data": {
      "text/plain": "                                      Image Path        Label\n0     captures_20230730_233758\\WateringCan_0.png  WateringCan\n1     captures_20230730_233758\\WateringCan_1.png  WateringCan\n2     captures_20230730_233758\\WateringCan_2.png  WateringCan\n3     captures_20230730_233758\\WateringCan_3.png  WateringCan\n4     captures_20230730_233758\\WateringCan_4.png  WateringCan\n...                                          ...          ...\n3440         captures_20230731_222634\\Mug_31.png          Mug\n3441         captures_20230731_222634\\Mug_32.png          Mug\n3442         captures_20230731_222634\\Mug_33.png          Mug\n3443         captures_20230731_222634\\Mug_34.png          Mug\n3444         captures_20230731_222634\\Mug_35.png          Mug\n\n[3445 rows x 2 columns]",
      "text/html": "<div>\n<style scoped>\n    .dataframe tbody tr th:only-of-type {\n        vertical-align: middle;\n    }\n\n    .dataframe tbody tr th {\n        vertical-align: top;\n    }\n\n    .dataframe thead th {\n        text-align: right;\n    }\n</style>\n<table border=\"1\" class=\"dataframe\">\n  <thead>\n    <tr style=\"text-align: right;\">\n      <th></th>\n      <th>Image Path</th>\n      <th>Label</th>\n    </tr>\n  </thead>\n  <tbody>\n    <tr>\n      <th>0</th>\n      <td>captures_20230730_233758\\WateringCan_0.png</td>\n      <td>WateringCan</td>\n    </tr>\n    <tr>\n      <th>1</th>\n      <td>captures_20230730_233758\\WateringCan_1.png</td>\n      <td>WateringCan</td>\n    </tr>\n    <tr>\n      <th>2</th>\n      <td>captures_20230730_233758\\WateringCan_2.png</td>\n      <td>WateringCan</td>\n    </tr>\n    <tr>\n      <th>3</th>\n      <td>captures_20230730_233758\\WateringCan_3.png</td>\n      <td>WateringCan</td>\n    </tr>\n    <tr>\n      <th>4</th>\n      <td>captures_20230730_233758\\WateringCan_4.png</td>\n      <td>WateringCan</td>\n    </tr>\n    <tr>\n      <th>...</th>\n      <td>...</td>\n      <td>...</td>\n    </tr>\n    <tr>\n      <th>3440</th>\n      <td>captures_20230731_222634\\Mug_31.png</td>\n      <td>Mug</td>\n    </tr>\n    <tr>\n      <th>3441</th>\n      <td>captures_20230731_222634\\Mug_32.png</td>\n      <td>Mug</td>\n    </tr>\n    <tr>\n      <th>3442</th>\n      <td>captures_20230731_222634\\Mug_33.png</td>\n      <td>Mug</td>\n    </tr>\n    <tr>\n      <th>3443</th>\n      <td>captures_20230731_222634\\Mug_34.png</td>\n      <td>Mug</td>\n    </tr>\n    <tr>\n      <th>3444</th>\n      <td>captures_20230731_222634\\Mug_35.png</td>\n      <td>Mug</td>\n    </tr>\n  </tbody>\n</table>\n<p>3445 rows × 2 columns</p>\n</div>"
     },
     "execution_count": 8,
     "metadata": {},
     "output_type": "execute_result"
    }
   ],
   "source": [
    "train_df"
   ],
   "metadata": {
    "collapsed": false,
    "ExecuteTime": {
     "end_time": "2023-08-02T12:16:21.930022Z",
     "start_time": "2023-08-02T12:16:21.881153Z"
    }
   }
  },
  {
   "cell_type": "code",
   "execution_count": 9,
   "outputs": [],
   "source": [
    "# Define the image directory and image size\n",
    "image_dir = 'D:/Master/ProjectOutsideOfCouseScope/ObjectDetection/'\n",
    "image_size = (416, 416)  # YOLO typically uses 416x416 input size"
   ],
   "metadata": {
    "collapsed": false,
    "ExecuteTime": {
     "end_time": "2023-08-02T12:16:21.954957Z",
     "start_time": "2023-08-02T12:16:21.927029300Z"
    }
   }
  },
  {
   "cell_type": "code",
   "execution_count": 11,
   "outputs": [
    {
     "name": "stdout",
     "output_type": "stream",
     "text": [
      "Found 3446 validated image filenames belonging to 11 classes.\n",
      "Found 861 validated image filenames belonging to 11 classes.\n"
     ]
    }
   ],
   "source": [
    "# Create an ImageDataGenerator for data augmentation and loading images\n",
    "data_generator = ImageDataGenerator(rescale=1.0 / 255.0, validation_split=0.2)\n",
    "train_data = data_generator.flow_from_dataframe(\n",
    "    dataframe=dataset,\n",
    "    directory=image_dir,\n",
    "    x_col='Image Path',\n",
    "    y_col='Label',\n",
    "    subset='training',\n",
    "    batch_size=32,\n",
    "    target_size=image_size,\n",
    "    class_mode='categorical'\n",
    ")\n",
    "val_data = data_generator.flow_from_dataframe(\n",
    "    dataframe=dataset,\n",
    "    directory=image_dir,\n",
    "    x_col='Image Path',\n",
    "    y_col='Label',\n",
    "    subset='validation',\n",
    "    batch_size=32,\n",
    "    target_size=image_size,\n",
    "    class_mode='categorical'\n",
    ")"
   ],
   "metadata": {
    "collapsed": false
   }
  },
  {
   "cell_type": "code",
   "execution_count": 21,
   "outputs": [],
   "source": [
    "import cv2"
   ],
   "metadata": {
    "collapsed": false,
    "ExecuteTime": {
     "end_time": "2023-08-02T12:22:54.534338300Z",
     "start_time": "2023-08-02T12:22:54.519346300Z"
    }
   }
  },
  {
   "cell_type": "code",
   "execution_count": 25,
   "outputs": [],
   "source": [
    "\n",
    "# Load YOLO model\n",
    "model = cv2.dnn.readNet(\"yolov3.weights\", \"yolov3.cfg\")"
   ],
   "metadata": {
    "collapsed": false,
    "ExecuteTime": {
     "end_time": "2023-08-02T12:23:12.252665200Z",
     "start_time": "2023-08-02T12:23:12.054921Z"
    }
   }
  },
  {
   "cell_type": "code",
   "execution_count": null,
   "outputs": [],
   "source": [],
   "metadata": {
    "collapsed": false
   }
  }
 ],
 "metadata": {
  "kernelspec": {
   "display_name": "Python 3",
   "language": "python",
   "name": "python3"
  },
  "language_info": {
   "codemirror_mode": {
    "name": "ipython",
    "version": 2
   },
   "file_extension": ".py",
   "mimetype": "text/x-python",
   "name": "python",
   "nbconvert_exporter": "python",
   "pygments_lexer": "ipython2",
   "version": "2.7.6"
  }
 },
 "nbformat": 4,
 "nbformat_minor": 0
}
